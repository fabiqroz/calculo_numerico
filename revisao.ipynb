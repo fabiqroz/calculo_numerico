{
  "nbformat": 4,
  "nbformat_minor": 0,
  "metadata": {
    "colab": {
      "provenance": []
    },
    "kernelspec": {
      "name": "python3",
      "display_name": "Python 3"
    },
    "language_info": {
      "name": "python"
    }
  },
  "cells": [
    {
      "cell_type": "markdown",
      "source": [
        "Operadores, variáveis e tipos primitivos de dados\n",
        "\n",
        "\n"
      ],
      "metadata": {
        "id": "W5xZ7kokzW_r"
      }
    },
    {
      "cell_type": "code",
      "execution_count": null,
      "metadata": {
        "id": "Gq-oIUmgzMFF"
      },
      "outputs": [],
      "source": [
        "a = 3\n",
        "b = 2"
      ]
    },
    {
      "cell_type": "code",
      "source": [
        "print(a)"
      ],
      "metadata": {
        "colab": {
          "base_uri": "https://localhost:8080/"
        },
        "id": "Farg2EuwKR7W",
        "outputId": "be3c582e-27c1-4e0e-c429-5cebbea43b5e"
      },
      "execution_count": null,
      "outputs": [
        {
          "output_type": "stream",
          "name": "stdout",
          "text": [
            "3\n"
          ]
        }
      ]
    },
    {
      "cell_type": "markdown",
      "source": [
        "Operadores aritméticos"
      ],
      "metadata": {
        "id": "TWywV-b60Mcr"
      }
    },
    {
      "cell_type": "code",
      "source": [
        "print(a+b)\n",
        "print(a-b)\n",
        "print(a*b)\n",
        "print(a/b)\n",
        "print(a//b)\n",
        "print(a%b)"
      ],
      "metadata": {
        "colab": {
          "base_uri": "https://localhost:8080/"
        },
        "id": "psb1UKFxzpbt",
        "outputId": "1aa378f2-c382-44d7-f686-ed5a07ebb450"
      },
      "execution_count": null,
      "outputs": [
        {
          "output_type": "stream",
          "name": "stdout",
          "text": [
            "5\n",
            "1\n",
            "6\n",
            "1.5\n",
            "1\n",
            "1\n"
          ]
        }
      ]
    },
    {
      "cell_type": "markdown",
      "source": [
        "Operadores relacionais"
      ],
      "metadata": {
        "id": "zARGE-d30POS"
      }
    },
    {
      "cell_type": "code",
      "source": [
        "print(a==b)\n",
        "print(a!=b)\n",
        "print(a<b)\n",
        "print(a>=b)"
      ],
      "metadata": {
        "colab": {
          "base_uri": "https://localhost:8080/"
        },
        "id": "uhh_FbnX0RUh",
        "outputId": "87073c80-6d9e-47fc-c048-1569eee156f6"
      },
      "execution_count": null,
      "outputs": [
        {
          "output_type": "stream",
          "name": "stdout",
          "text": [
            "False\n",
            "True\n",
            "False\n",
            "True\n"
          ]
        }
      ]
    },
    {
      "cell_type": "markdown",
      "source": [
        "Strings"
      ],
      "metadata": {
        "id": "YrGdXygi0tMC"
      }
    },
    {
      "cell_type": "code",
      "source": [
        "s1 = 'oi'\n",
        "s2 = \"mundo\"\n",
        "\n",
        "print(s1 + ' ' + s2)\n",
        "print(s1*10)"
      ],
      "metadata": {
        "colab": {
          "base_uri": "https://localhost:8080/"
        },
        "id": "uXILpmEK1f-k",
        "outputId": "e214f10c-caa5-4126-af0e-c7f4a3c15c2c"
      },
      "execution_count": null,
      "outputs": [
        {
          "output_type": "stream",
          "name": "stdout",
          "text": [
            "oi mundo\n",
            "oioioioioioioioioioi\n"
          ]
        }
      ]
    },
    {
      "cell_type": "code",
      "source": [
        "nome = 'fabi'\n",
        "senha = 3\n",
        "\n",
        "'Bem vinda, {1}, sua senha é a de numero {0}'.format(nome.upper(), senha)"
      ],
      "metadata": {
        "colab": {
          "base_uri": "https://localhost:8080/",
          "height": 35
        },
        "id": "erBZASfC0vNw",
        "outputId": "e5805b81-6c5a-446d-d0c4-a49f6278e69a"
      },
      "execution_count": null,
      "outputs": [
        {
          "output_type": "execute_result",
          "data": {
            "text/plain": [
              "'Bem vinda, 3, sua senha é a de numero FABI'"
            ],
            "application/vnd.google.colaboratory.intrinsic+json": {
              "type": "string"
            }
          },
          "metadata": {},
          "execution_count": 39
        }
      ]
    },
    {
      "cell_type": "markdown",
      "source": [
        "Condições"
      ],
      "metadata": {
        "id": "x7_FET9T0evT"
      }
    },
    {
      "cell_type": "code",
      "source": [
        "c = -1"
      ],
      "metadata": {
        "id": "vVdkIzyg0qU-"
      },
      "execution_count": null,
      "outputs": []
    },
    {
      "cell_type": "code",
      "source": [
        "if a == b or a>c:\n",
        "  print(0)\n",
        "elif a!= b and a>=c:\n",
        "  print(1)\n",
        "else:\n",
        "  print(2)"
      ],
      "metadata": {
        "colab": {
          "base_uri": "https://localhost:8080/"
        },
        "id": "pZVMIzNx0h9G",
        "outputId": "38e18975-89a2-42dd-962d-82e47a7e4646"
      },
      "execution_count": null,
      "outputs": [
        {
          "output_type": "stream",
          "name": "stdout",
          "text": [
            "0\n"
          ]
        }
      ]
    },
    {
      "cell_type": "markdown",
      "source": [
        "Repetição Condicionada"
      ],
      "metadata": {
        "id": "kJ5-ktNG2Mqu"
      }
    },
    {
      "cell_type": "code",
      "source": [
        "num = float(input('Digite um numero inteiro positivo: '))\n",
        "while num >= 0:\n",
        "  num = float(input('Digite um numero inteiro positivo: '))\n",
        "else:\n",
        "  print('O numero digitado não é um numero inteiro positivo!')\n"
      ],
      "metadata": {
        "colab": {
          "base_uri": "https://localhost:8080/"
        },
        "id": "Ek-Roa4w2Osp",
        "outputId": "c9b08e95-79d3-4883-d99f-e359a6492121"
      },
      "execution_count": null,
      "outputs": [
        {
          "output_type": "stream",
          "name": "stdout",
          "text": [
            "Digite um numero inteiro positivo: 9\n",
            "Digite um numero inteiro positivo: -1\n",
            "O numero digitado não é um numero inteiro positivo!\n"
          ]
        }
      ]
    },
    {
      "cell_type": "markdown",
      "source": [
        "Listas "
      ],
      "metadata": {
        "id": "OxCMbfdK4C_y"
      }
    },
    {
      "cell_type": "code",
      "source": [
        "lista = [9,-6,7,2,0,1,8,-3,5,4]\n",
        "print(lista)"
      ],
      "metadata": {
        "colab": {
          "base_uri": "https://localhost:8080/"
        },
        "id": "4DnD1gYM4Eh_",
        "outputId": "bc53a19c-ea5a-4c11-e19c-8b459a5115d5"
      },
      "execution_count": null,
      "outputs": [
        {
          "output_type": "stream",
          "name": "stdout",
          "text": [
            "[9, -6, 7, 2, 0, 1, 8, -3, 5, 4]\n"
          ]
        }
      ]
    },
    {
      "cell_type": "code",
      "source": [
        "for i in lista:\n",
        "  print(i)"
      ],
      "metadata": {
        "colab": {
          "base_uri": "https://localhost:8080/"
        },
        "id": "oQuf6vvJ4bJo",
        "outputId": "8c6ef3f6-0db3-4c3f-9b64-a0b7fbf9a4d3"
      },
      "execution_count": null,
      "outputs": [
        {
          "output_type": "stream",
          "name": "stdout",
          "text": [
            "9\n",
            "-6\n",
            "7\n",
            "2\n",
            "0\n",
            "1\n",
            "8\n",
            "-3\n",
            "5\n",
            "4\n"
          ]
        }
      ]
    },
    {
      "cell_type": "code",
      "source": [
        "cont = 0\n",
        "for i in lista:\n",
        "  if i%2 == 0:\n",
        "    cont += 1\n",
        "\n",
        "print('Quantidade de numeros pares:', cont)"
      ],
      "metadata": {
        "colab": {
          "base_uri": "https://localhost:8080/"
        },
        "id": "lYThGBzY4q0f",
        "outputId": "9cc97ebd-44a9-40e1-afcb-424634e850e5"
      },
      "execution_count": null,
      "outputs": [
        {
          "output_type": "stream",
          "name": "stdout",
          "text": [
            "Quantidade de numeros pares: 5\n"
          ]
        }
      ]
    },
    {
      "cell_type": "code",
      "source": [
        "cont = 0\n",
        "for i in range(len(lista)):\n",
        "  if lista[i] % 2 == 0:\n",
        "    cont += 1\n",
        "\n",
        "print('Quantidade de numeros pares:', cont)"
      ],
      "metadata": {
        "colab": {
          "base_uri": "https://localhost:8080/"
        },
        "id": "MUNwncCs4gqF",
        "outputId": "ac42d9fd-6cae-4c38-9e30-03887de0bb62"
      },
      "execution_count": null,
      "outputs": [
        {
          "output_type": "stream",
          "name": "stdout",
          "text": [
            "Quantidade de numeros pares: 5\n"
          ]
        }
      ]
    },
    {
      "cell_type": "markdown",
      "source": [
        "Funções"
      ],
      "metadata": {
        "id": "L9pD7U5DOzbu"
      }
    },
    {
      "cell_type": "code",
      "source": [
        "def diga_oi():\n",
        "  print('oi')"
      ],
      "metadata": {
        "id": "jucePQA0PQj-"
      },
      "execution_count": null,
      "outputs": []
    },
    {
      "cell_type": "code",
      "source": [
        "diga_oi()"
      ],
      "metadata": {
        "colab": {
          "base_uri": "https://localhost:8080/"
        },
        "id": "fb_qw6GePUe7",
        "outputId": "97572bfc-9acb-4d2b-80e7-52b2b9184827"
      },
      "execution_count": null,
      "outputs": [
        {
          "output_type": "stream",
          "name": "stdout",
          "text": [
            "oi\n"
          ]
        }
      ]
    },
    {
      "cell_type": "code",
      "source": [
        "def check_par(num):\n",
        "  return num % 2 == 0"
      ],
      "metadata": {
        "id": "B0XME13T5K9N"
      },
      "execution_count": null,
      "outputs": []
    },
    {
      "cell_type": "code",
      "source": [
        "cont= 0\n",
        "for i in lista:\n",
        "  if check_par(i):\n",
        "    cont += 1\n",
        "\n",
        "print('Quantidade de numeros pares:', cont)"
      ],
      "metadata": {
        "colab": {
          "base_uri": "https://localhost:8080/"
        },
        "id": "DHjptaLw7nOd",
        "outputId": "563e2a8e-5da7-496c-f081-951ba9889d3a"
      },
      "execution_count": null,
      "outputs": [
        {
          "output_type": "stream",
          "name": "stdout",
          "text": [
            "Quantidade de numeros pares: 5\n"
          ]
        }
      ]
    },
    {
      "cell_type": "code",
      "source": [
        "def check_pares(lista):\n",
        "  pares = []\n",
        "  for i in lista:\n",
        "    if i%2 == 0:\n",
        "      pares.append(i)\n",
        "    \n",
        "  return pares"
      ],
      "metadata": {
        "id": "HlE-WHxn7uIx"
      },
      "execution_count": null,
      "outputs": []
    },
    {
      "cell_type": "code",
      "source": [
        "l1 = [3, 2, 1,4]"
      ],
      "metadata": {
        "id": "Greh6nlF8Gp9"
      },
      "execution_count": null,
      "outputs": []
    },
    {
      "cell_type": "code",
      "source": [
        "pares = check_pares(l1)"
      ],
      "metadata": {
        "id": "StvWtirA9AQl"
      },
      "execution_count": null,
      "outputs": []
    },
    {
      "cell_type": "code",
      "source": [
        "# Verifica se a lista nao esta vazia\n",
        "if pares:\n",
        "  print('A lista contem {} numeros pares. \\n São eles: {}'.format(len(pares), pares))\n",
        "else:\n",
        "  print('A lista não contém numeros pares')"
      ],
      "metadata": {
        "colab": {
          "base_uri": "https://localhost:8080/"
        },
        "id": "oAq8kNB_81Yb",
        "outputId": "c2b4aebc-9aae-4aa9-c050-d3405d0f9367"
      },
      "execution_count": null,
      "outputs": [
        {
          "output_type": "stream",
          "name": "stdout",
          "text": [
            "A lista contem 2 numeros pares. \n",
            " São eles: [2, 4]\n"
          ]
        }
      ]
    },
    {
      "cell_type": "code",
      "source": [
        "l2 = [3, 1, 1, 9]"
      ],
      "metadata": {
        "id": "Y0XB_KOz9E_o"
      },
      "execution_count": null,
      "outputs": []
    },
    {
      "cell_type": "code",
      "source": [
        "pares = check_pares(l2)"
      ],
      "metadata": {
        "id": "XXnKkgpT9N3V"
      },
      "execution_count": null,
      "outputs": []
    },
    {
      "cell_type": "code",
      "source": [
        "# Verifica se a lista nao esta vazia\n",
        "if pares:\n",
        "  print('A lista contem {} numeros pares. \\n São eles: {}'.format(len(pares), pares))\n",
        "else:\n",
        "  print('A lista não contém numeros pares')"
      ],
      "metadata": {
        "colab": {
          "base_uri": "https://localhost:8080/"
        },
        "id": "cH878hDH9I95",
        "outputId": "05eaeeb2-ca64-4b65-bcc5-dd8c92dfd3bf"
      },
      "execution_count": null,
      "outputs": [
        {
          "output_type": "stream",
          "name": "stdout",
          "text": [
            "A lista não contém numeros pares\n"
          ]
        }
      ]
    }
  ]
}