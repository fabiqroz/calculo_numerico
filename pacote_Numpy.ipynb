{
  "nbformat": 4,
  "nbformat_minor": 0,
  "metadata": {
    "colab": {
      "provenance": [],
      "collapsed_sections": [
        "IfIyW3Ki_gTb"
      ]
    },
    "kernelspec": {
      "name": "python3",
      "display_name": "Python 3"
    },
    "language_info": {
      "name": "python"
    }
  },
  "cells": [
    {
      "cell_type": "markdown",
      "source": [
        "# O Módulo externo `numpy` 🥰🥰🥰🥰🥰🥰"
      ],
      "metadata": {
        "id": "EFqO8WTa2kDh"
      }
    },
    {
      "cell_type": "markdown",
      "source": [
        "O [numpy](https://numpy.org/) não é um pacote nativo do Python. Aqui no Colab nós podemos usá-lo sem necessidade de instalação. Mas em outra IDE, é necessário instalar! Ele deve ser instalado separadamente (a instalação é muito fácil). O módulo apresenta objetos de matriz que são semelhantes a listas, mas podem ser manipulados por várias funções contidas no módulo. "
      ],
      "metadata": {
        "id": "2cxkwzeo_MZJ"
      }
    },
    {
      "cell_type": "markdown",
      "source": [
        "## Instalando o Numpy:"
      ],
      "metadata": {
        "id": "IfIyW3Ki_gTb"
      }
    },
    {
      "cell_type": "code",
      "source": [
        "!pip install numpy"
      ],
      "metadata": {
        "colab": {
          "base_uri": "https://localhost:8080/"
        },
        "id": "IOzGrtqoAUNN",
        "outputId": "dafcf103-8671-47d5-dc15-6e41a5f23958"
      },
      "execution_count": null,
      "outputs": [
        {
          "output_type": "stream",
          "name": "stdout",
          "text": [
            "Requirement already satisfied: numpy in /usr/local/lib/python3.7/dist-packages (1.21.5)\n"
          ]
        }
      ]
    },
    {
      "cell_type": "markdown",
      "source": [
        "## Alguns recursos do numpy\n",
        "\n",
        "O conjunto completo de funções do numpy é muito longo para ser impresso em sua totalidade. A lista a seguir é limitada apenas a algumas funções tipicamente usadas."
      ],
      "metadata": {
        "id": "_M49vyihAlS_"
      }
    },
    {
      "cell_type": "markdown",
      "source": [
        "<font color='purple'>[’complex’, ’float’, ’abs’, ’append’, arccos’, ’arccosh’, ’arcsin’, ’arcsinh’, ’arctan’, ’arctan2’, ’arctanh’, ’argmax’, ’argmin’, ’cos’, ’cosh’, ’diag’, ’diagonal’, ’dot’, ’e’, ’exp’, ’floor’, ’identity’, ’inner, ’inv’, ’log’, ’log10’, ’max’, ’min’, ’ones’, ’outer’, ’pi’, ’prod’ ’sin’, ’sinh’, ’size’, ’solve’, ’sqrt’, ’sum’, ’tan’, ’tanh’, ’trace’, ’transpose’, ’vectorize’,’zeros’]</font>"
      ],
      "metadata": {
        "id": "HivFZQ5ABVAA"
      }
    },
    {
      "cell_type": "markdown",
      "source": [
        "### Criando Arrays Numpy:"
      ],
      "metadata": {
        "id": "c2UdUPmnD9sm"
      }
    },
    {
      "cell_type": "code",
      "source": [
        "import numpy as np"
      ],
      "metadata": {
        "id": "XGbAgQZU2b18"
      },
      "execution_count": null,
      "outputs": []
    },
    {
      "cell_type": "markdown",
      "source": [
        "Criando um array unidimensional de valores inteiros:\n",
        "\n",
        "\n"
      ],
      "metadata": {
        "id": "9v5cgAiDmahO"
      }
    },
    {
      "cell_type": "code",
      "source": [
        "a = np.array([1, 2, 3], dtype= int)\n",
        "print(a)"
      ],
      "metadata": {
        "colab": {
          "base_uri": "https://localhost:8080/"
        },
        "id": "J_AHDKZyCBHj",
        "outputId": "56733e4d-c9c3-4d2d-e933-56dd06763dfa"
      },
      "execution_count": null,
      "outputs": [
        {
          "output_type": "stream",
          "name": "stdout",
          "text": [
            "[1 2 3]\n"
          ]
        }
      ]
    },
    {
      "cell_type": "markdown",
      "source": [
        "Criando um array bidimensional de valores reais (ponto flutuante):\n"
      ],
      "metadata": {
        "id": "IZ81adBumjQj"
      }
    },
    {
      "cell_type": "code",
      "source": [
        "b = np.array([[2.0,-1.0],[-1.0, 3.0]], dtype = float)\n",
        "print(b)"
      ],
      "metadata": {
        "colab": {
          "base_uri": "https://localhost:8080/"
        },
        "id": "aDFufCiP_7NX",
        "outputId": "7344bb6e-d784-41ea-b151-16e6104d6295"
      },
      "execution_count": null,
      "outputs": [
        {
          "output_type": "stream",
          "name": "stdout",
          "text": [
            "[[ 2. -1.]\n",
            " [-1.  3.]]\n"
          ]
        }
      ]
    },
    {
      "cell_type": "markdown",
      "source": [
        "Se eu não especificar o tipo numérico de dados, os valores tão representação de ponto flutuante por padrão:"
      ],
      "metadata": {
        "id": "inKsDvcomn15"
      }
    },
    {
      "cell_type": "code",
      "source": [
        "c = np.array([[2.0,-1.0],[-1.0, 3.0]])\n",
        "print(c)"
      ],
      "metadata": {
        "colab": {
          "base_uri": "https://localhost:8080/"
        },
        "id": "EQFk6EkaCRUW",
        "outputId": "cf81aaf7-45c6-477e-85fd-3f278f31426f"
      },
      "execution_count": null,
      "outputs": [
        {
          "output_type": "stream",
          "name": "stdout",
          "text": [
            "[[ 2. -1.]\n",
            " [-1.  3.]]\n"
          ]
        }
      ]
    },
    {
      "cell_type": "markdown",
      "source": [
        "Outras maneiras de se criar arrays numpy:"
      ],
      "metadata": {
        "id": "lKcK4N-emzPV"
      }
    },
    {
      "cell_type": "code",
      "source": [
        "print(np.arange(2,10,2))\n",
        "print(np.zeros(3))\n",
        "print(np.ones((3,3), dtype=int))\n",
        "print(np.identity(3))"
      ],
      "metadata": {
        "colab": {
          "base_uri": "https://localhost:8080/"
        },
        "id": "ZcX4sHx_BvGP",
        "outputId": "e3444b17-3d07-489a-c86e-18f12c4d7171"
      },
      "execution_count": null,
      "outputs": [
        {
          "output_type": "stream",
          "name": "stdout",
          "text": [
            "[2 4 6 8]\n",
            "[0. 0. 0.]\n",
            "[[1 1 1]\n",
            " [1 1 1]\n",
            " [1 1 1]]\n",
            "[[1. 0. 0.]\n",
            " [0. 1. 0.]\n",
            " [0. 0. 1.]]\n"
          ]
        }
      ]
    },
    {
      "cell_type": "markdown",
      "source": [
        "### Acessando a alterando elementos dos arrays:"
      ],
      "metadata": {
        "id": "KWo_PgNrEYZI"
      }
    },
    {
      "cell_type": "code",
      "source": [
        "a = np.zeros((3,3), dtype = int)\n",
        "a[0] = [2,3,2]\n",
        "a[1, 1] = 5\n",
        "a[2, 0:2] = [8,-3]\n",
        "print(a)"
      ],
      "metadata": {
        "colab": {
          "base_uri": "https://localhost:8080/"
        },
        "id": "nEJ2fbw8DAPb",
        "outputId": "7758e82d-c0c7-4abd-da18-a5b8c896b352"
      },
      "execution_count": null,
      "outputs": [
        {
          "output_type": "stream",
          "name": "stdout",
          "text": [
            "[[ 2  3  2]\n",
            " [ 0  5  0]\n",
            " [ 8 -3  0]]\n"
          ]
        }
      ]
    },
    {
      "cell_type": "markdown",
      "source": [
        "### Convertendo arrays numpy em listas: "
      ],
      "metadata": {
        "id": "FxHQAixKEOC_"
      }
    },
    {
      "cell_type": "code",
      "source": [
        "list_a = a.tolist()\n",
        "print(type(list_a))\n"
      ],
      "metadata": {
        "colab": {
          "base_uri": "https://localhost:8080/"
        },
        "id": "yHR01LEiDFv1",
        "outputId": "ee186dfc-f8cf-4d58-8ba8-2be1efe2d67f"
      },
      "execution_count": null,
      "outputs": [
        {
          "output_type": "stream",
          "name": "stdout",
          "text": [
            "<class 'list'>\n"
          ]
        }
      ]
    },
    {
      "cell_type": "markdown",
      "source": [
        "### Operações sobre arrays:"
      ],
      "metadata": {
        "id": "c37_GMOmDyno"
      }
    },
    {
      "cell_type": "markdown",
      "source": [
        "<font color='red'>Dividindo todos os elementos de uma lista por 16: Sem usar os recurso do numpy: </font> 🤡\n",
        "\n"
      ],
      "metadata": {
        "id": "8NIg8bGAFlRQ"
      }
    },
    {
      "cell_type": "code",
      "source": [
        "a = [0.0, 4.0, 9.0, 16.0]\n",
        "for i in range(len(a)):\n",
        "  a[i] = a[i]/16.0\n",
        "\n",
        "print(a)"
      ],
      "metadata": {
        "colab": {
          "base_uri": "https://localhost:8080/"
        },
        "id": "9SPAF-fWE4O7",
        "outputId": "0550fe9a-0229-4b1b-e919-b16c3ecb8b5c"
      },
      "execution_count": null,
      "outputs": [
        {
          "output_type": "stream",
          "name": "stdout",
          "text": [
            "[0.0, 0.25, 0.5625, 1.0]\n"
          ]
        }
      ]
    },
    {
      "cell_type": "markdown",
      "source": [
        "Usando os recusros do numpy para solucionar o mesmo problema: 👊"
      ],
      "metadata": {
        "id": "Bw9UVRWFFtvz"
      }
    },
    {
      "cell_type": "code",
      "source": [
        "a = np.array([0.0, 4.0, 9.0, 16.0])\n",
        "print(a/16.0)"
      ],
      "metadata": {
        "colab": {
          "base_uri": "https://localhost:8080/"
        },
        "id": "_QGLiVnUFa6f",
        "outputId": "7f9e755d-2b15-4f5e-ab0b-07f442d229ed"
      },
      "execution_count": null,
      "outputs": [
        {
          "output_type": "stream",
          "name": "stdout",
          "text": [
            "[0.     0.25   0.5625 1.    ]\n"
          ]
        }
      ]
    },
    {
      "cell_type": "markdown",
      "source": [
        "Outras operações semelhantes: "
      ],
      "metadata": {
        "id": "_K2Oy1-VpCPP"
      }
    },
    {
      "cell_type": "code",
      "source": [
        "a = np.array([0.0, 4.0, 9.0, 16.0])\n",
        "print(a/16.0)\n",
        "print(a - 4.0)\n",
        "print(a*2)\n",
        "print(np.sqrt(a))\n",
        "print(np.sin(a))"
      ],
      "metadata": {
        "colab": {
          "base_uri": "https://localhost:8080/"
        },
        "id": "AMtPn1ahD3me",
        "outputId": "36ff77ed-58bd-4c3a-8629-7617d6037667"
      },
      "execution_count": null,
      "outputs": [
        {
          "output_type": "stream",
          "name": "stdout",
          "text": [
            "[0.     0.25   0.5625 1.    ]\n",
            "[-4.  0.  5. 12.]\n",
            "[ 0.  8. 18. 32.]\n",
            "[0. 2. 3. 4.]\n",
            "[ 0.         -0.7568025   0.41211849 -0.28790332]\n"
          ]
        }
      ]
    },
    {
      "cell_type": "markdown",
      "source": [
        "<font color='red'>Obtendo os alementos da diagonal pricipal a partir de uma lista:</font> 🤡"
      ],
      "metadata": {
        "id": "ugfZNEF9lZuF"
      }
    },
    {
      "cell_type": "code",
      "source": [
        "lista_a = [[4,-2,1],[-2,4,-2],[1,-2,3]]\n",
        "diagonal = []\n",
        "for linha in range(3):\n",
        "  for coluna in range(3):\n",
        "    if linha == coluna:\n",
        "      diagonal.append(lista_a[linha][coluna])\n",
        "\n",
        "print(diagonal)"
      ],
      "metadata": {
        "colab": {
          "base_uri": "https://localhost:8080/"
        },
        "id": "ruNc8VQ7HEY5",
        "outputId": "6142f70f-1931-4181-a4e6-d1e3ab1b13b8"
      },
      "execution_count": null,
      "outputs": [
        {
          "output_type": "stream",
          "name": "stdout",
          "text": [
            "[4, 4, 3]\n"
          ]
        }
      ]
    },
    {
      "cell_type": "markdown",
      "source": [
        "Mesma operação utilizando array numpy: 👊"
      ],
      "metadata": {
        "id": "CUcGdk9Ol8v3"
      }
    },
    {
      "cell_type": "code",
      "source": [
        "a = np.asarray(lista_a)\n",
        "print(np.diagonal(a))"
      ],
      "metadata": {
        "colab": {
          "base_uri": "https://localhost:8080/"
        },
        "id": "WtPz762kGtom",
        "outputId": "ea99f905-9416-4355-b9dc-a9706b46a13c"
      },
      "execution_count": null,
      "outputs": [
        {
          "output_type": "stream",
          "name": "stdout",
          "text": [
            "[4 4 3]\n"
          ]
        }
      ]
    },
    {
      "cell_type": "code",
      "source": [
        "# traço de uma matriz: soma dos elementos da diagonal principal\n",
        "print(np.trace(a))\n",
        "# indice do menor elemento de cada linha\n",
        "print(np.argmin(a,axis=0))\n",
        "# indice do maior elemento de cada coluna\n",
        "print(np.argmax(a,axis=1))"
      ],
      "metadata": {
        "colab": {
          "base_uri": "https://localhost:8080/"
        },
        "id": "6ojjab3Jpf3d",
        "outputId": "04b8c36c-0b81-4a79-ee12-34f1f02c7330"
      },
      "execution_count": null,
      "outputs": [
        {
          "output_type": "stream",
          "name": "stdout",
          "text": [
            "11\n",
            "[1 0 1]\n",
            "[0 1 2]\n"
          ]
        }
      ]
    },
    {
      "cell_type": "code",
      "source": [
        "x = np.array([7,3]) \n",
        "y = np.array([2,1]) \n",
        "A = np.array([[1,2],[3,2]]) \n",
        "B = np.array([[1,1],[2,2]])"
      ],
      "metadata": {
        "id": "jt9kuQ7_pvLq"
      },
      "execution_count": null,
      "outputs": []
    },
    {
      "cell_type": "markdown",
      "source": [
        "Produto escalar entre arrays:"
      ],
      "metadata": {
        "id": "_7EBeIr9raIh"
      }
    },
    {
      "cell_type": "code",
      "source": [
        "# Dot product (Produto escalar)\n",
        "print(\"dot(x,y) =\\n\",np.dot(x,y)) # {x}.{y}\n",
        "print(\"dot(A,x) =\\n\",np.dot(A,x)) # [A]{x}\n",
        "print(\"dot(A,B) =\\n\",np.dot(A,B)) # [A][B]"
      ],
      "metadata": {
        "colab": {
          "base_uri": "https://localhost:8080/"
        },
        "id": "tFJe-Y18rLBt",
        "outputId": "ecc71c67-3c09-45d7-dc7a-a0851756d98c"
      },
      "execution_count": null,
      "outputs": [
        {
          "output_type": "stream",
          "name": "stdout",
          "text": [
            "dot(x,y) =\n",
            " 17\n",
            "dot(A,x) =\n",
            " [13 27]\n",
            "dot(A,B) =\n",
            " [[5 5]\n",
            " [7 7]]\n"
          ]
        }
      ]
    },
    {
      "cell_type": "code",
      "source": [
        "# Inner product (produto interno)\n",
        "print(\"inner(x,y) =\\n\",np.inner(x,y)) # {x}.{y} \n",
        "print(\"inner(A,x) =\\n\",np.inner(A,x)) # [A]{x} \n",
        "print(\"inner(A,B) =\\n\",np.inner(A,B)) # [A][B_transpose]"
      ],
      "metadata": {
        "colab": {
          "base_uri": "https://localhost:8080/"
        },
        "id": "vpF5DfmWrz5l",
        "outputId": "c8539e3e-a610-46ad-9839-fa4fa748ef5c"
      },
      "execution_count": null,
      "outputs": [
        {
          "output_type": "stream",
          "name": "stdout",
          "text": [
            "inner(x,y) =\n",
            " 17\n",
            "inner(A,x) =\n",
            " [13 27]\n",
            "inner(A,B) =\n",
            " [[ 3  6]\n",
            " [ 5 10]]\n"
          ]
        }
      ]
    },
    {
      "cell_type": "markdown",
      "source": [
        "### Módulo de Álgebra Linear </font>(Muito importante para o cálculo numérico)</font>"
      ],
      "metadata": {
        "id": "7JWKjWEX21Bw"
      }
    },
    {
      "cell_type": "code",
      "source": [
        "from numpy import linalg "
      ],
      "metadata": {
        "id": "mw6hVkDx24E1"
      },
      "execution_count": null,
      "outputs": []
    },
    {
      "cell_type": "code",
      "source": [
        "A = np.array([[ 4.0,-2.0, 1.0], [-2.0, 4.0,-2.0], [ 1.0,-2.0, 3.0]])\n",
        "b = np.array([1.0, 4.0, 2.0])\n",
        "\n",
        "# solução de Ax = b\n",
        "print(linalg.solve(A,b))\n",
        "\n",
        "# cálculo ma matriz inversa\n",
        "print(linalg.inv(A))"
      ],
      "metadata": {
        "colab": {
          "base_uri": "https://localhost:8080/"
        },
        "id": "rgEdPX-Js9LD",
        "outputId": "f75537a4-b40a-4ab9-a16f-e4e50db922ae"
      },
      "execution_count": null,
      "outputs": [
        {
          "output_type": "stream",
          "name": "stdout",
          "text": [
            "[1.  2.5 2. ]\n",
            "[[0.33333333 0.16666667 0.        ]\n",
            " [0.16666667 0.45833333 0.25      ]\n",
            " [0.         0.25       0.5       ]]\n"
          ]
        }
      ]
    }
  ]
}